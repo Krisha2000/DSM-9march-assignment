{
 "cells": [
  {
   "cell_type": "markdown",
   "id": "ab2c0cb2-6663-45e5-b8d3-7a11216827f6",
   "metadata": {},
   "source": [
    "# Quetion : 1"
   ]
  },
  {
   "cell_type": "markdown",
   "id": "fc5a3564-a993-41f3-81e8-ec114751db6e",
   "metadata": {},
   "source": [
    "Probability Mass Function (PMF) and Probability Density Function (PDF) are mathematical functions used to describe the probability distribution of a random variable.\n",
    "\n",
    "PMF is used for discrete random variables, and it gives the probability of a specific value of the random variable occurring. For example, if X is a discrete random variable representing the number of heads in two coin tosses, then the PMF of X can be written as:\n",
    "\n",
    "P(X=0) = 1/4\n",
    "P(X=1) = 1/2\n",
    "P(X=2) = 1/4\n",
    "\n",
    "PDF, on the other hand, is used for continuous random variables, and it gives the probability density of the random variable taking on a particular value. For example, if X is a continuous random variable representing the height of adult humans, then the PDF of X can be represented by the normal distribution, which is given by the formula:\n",
    "\n",
    "f(x) = (1/σ√(2π)) * e^(-(x-μ)^2/2σ^2)\n",
    "\n",
    "where μ is the mean and σ is the standard deviation of the distribution."
   ]
  },
  {
   "cell_type": "markdown",
   "id": "f6280d90-b7f6-4447-bb1b-7c8c25f6a3aa",
   "metadata": {},
   "source": [
    "# Quetion : 2"
   ]
  },
  {
   "cell_type": "markdown",
   "id": "1ec0a60a-1fa1-4c12-86da-2005c4608593",
   "metadata": {},
   "source": [
    "Cumulative Density Function (CDF) is a function that gives the probability that a random variable X is less than or equal to a certain value x. The CDF is defined as:\n",
    "\n",
    "F(x) = P(X ≤ x)\n",
    "\n",
    "For example, if X is a continuous random variable representing the height of adult humans, then the CDF of X can be represented by the normal distribution, which is given by the formula:\n",
    "\n",
    "F(x) = Φ((x-μ)/σ)\n",
    "\n",
    "where Φ is the standard normal distribution, with mean 0 and standard deviation 1.\n",
    "\n",
    "CDF is used to calculate probabilities of random variables, as it provides a cumulative probability distribution for the random variable X."
   ]
  },
  {
   "cell_type": "markdown",
   "id": "27a34710-515c-4d6a-88d7-905a309dde18",
   "metadata": {},
   "source": [
    "# Quetion : 3"
   ]
  },
  {
   "cell_type": "markdown",
   "id": "35c5f402-a551-4bed-9036-79b56bba5889",
   "metadata": {},
   "source": [
    "The normal distribution is used as a model for situations where the data is continuous and symmetric around a central value, such as height, weight, and IQ scores. The parameters of the normal distribution, mean and standard deviation, relate to the shape of the distribution. The mean determines the location of the center of the distribution, while the standard deviation determines the spread of the data around the mean.\n",
    "\n"
   ]
  },
  {
   "cell_type": "markdown",
   "id": "ef52b533-c44a-497e-a1ed-e2a897af47e9",
   "metadata": {},
   "source": [
    "# Quetion : 4"
   ]
  },
  {
   "cell_type": "markdown",
   "id": "32385958-e30a-4865-abeb-906d9ec9f374",
   "metadata": {},
   "source": [
    "The normal distribution is important because it is a fundamental concept in statistics and probability theory. It is used to model a wide variety of real-world phenomena, including human heights, IQ scores, stock prices, and test scores. Some examples of the normal distribution in real life are:\n",
    "\n",
    "The heights of adult humans tend to follow a normal distribution, with a mean of around 5'6\" and a standard deviation of around 3 inches.\n",
    "IQ scores are typically normally distributed, with a mean of 100 and a standard deviation of 15.\n",
    "The prices of stocks and other financial assets are often modeled using a log-normal distribution, which is a variation of the normal distribution."
   ]
  },
  {
   "cell_type": "markdown",
   "id": "68696c11-8614-46e3-b272-003478fcb008",
   "metadata": {},
   "source": [
    "# Quetion : 5"
   ]
  },
  {
   "cell_type": "markdown",
   "id": "e022ea23-5a74-4e06-862c-93db18e073de",
   "metadata": {},
   "source": [
    "Q1:\n",
    "\n",
    "Probability Mass Function (PMF) and Probability Density Function (PDF) are mathematical functions used to describe the probability distribution of a random variable.\n",
    "\n",
    "PMF is used for discrete random variables, and it gives the probability of a specific value of the random variable occurring. For example, if X is a discrete random variable representing the number of heads in two coin tosses, then the PMF of X can be written as:\n",
    "\n",
    "P(X=0) = 1/4\n",
    "P(X=1) = 1/2\n",
    "P(X=2) = 1/4\n",
    "\n",
    "PDF, on the other hand, is used for continuous random variables, and it gives the probability density of the random variable taking on a particular value. For example, if X is a continuous random variable representing the height of adult humans, then the PDF of X can be represented by the normal distribution, which is given by the formula:\n",
    "\n",
    "f(x) = (1/σ√(2π)) * e^(-(x-μ)^2/2σ^2)\n",
    "\n",
    "where μ is the mean and σ is the standard deviation of the distribution.\n",
    "\n",
    "Q2:\n",
    "\n",
    "Cumulative Density Function (CDF) is a function that gives the probability that a random variable X is less than or equal to a certain value x. The CDF is defined as:\n",
    "\n",
    "F(x) = P(X ≤ x)\n",
    "\n",
    "For example, if X is a continuous random variable representing the height of adult humans, then the CDF of X can be represented by the normal distribution, which is given by the formula:\n",
    "\n",
    "F(x) = Φ((x-μ)/σ)\n",
    "\n",
    "where Φ is the standard normal distribution, with mean 0 and standard deviation 1.\n",
    "\n",
    "CDF is used to calculate probabilities of random variables, as it provides a cumulative probability distribution for the random variable X.\n",
    "\n",
    "Q3:\n",
    "\n",
    "The normal distribution is used as a model for situations where the data is continuous and symmetric around a central value, such as height, weight, and IQ scores. The parameters of the normal distribution, mean and standard deviation, relate to the shape of the distribution. The mean determines the location of the center of the distribution, while the standard deviation determines the spread of the data around the mean.\n",
    "\n",
    "Q4:\n",
    "\n",
    "The normal distribution is important because it is a fundamental concept in statistics and probability theory. It is used to model a wide variety of real-world phenomena, including human heights, IQ scores, stock prices, and test scores. Some examples of the normal distribution in real life are:\n",
    "\n",
    "The heights of adult humans tend to follow a normal distribution, with a mean of around 5'6\" and a standard deviation of around 3 inches.\n",
    "IQ scores are typically normally distributed, with a mean of 100 and a standard deviation of 15.\n",
    "The prices of stocks and other financial assets are often modeled using a log-normal distribution, which is a variation of the normal distribution.\n",
    "Q5:\n",
    "\n",
    "The Bernoulli distribution is a discrete probability distribution that models the outcomes of a single binary event. It has two possible outcomes, often labeled as \"success\" and \"failure\", with probabilities p and q=1-p respectively. For example, the result of a single coin flip is a Bernoulli distribution, with p=0.5 for a fair coin.\n",
    "\n",
    "The main difference between Bernoulli and binomial distributions is that Bernoulli is used for a single trial, whereas the binomial distribution is used for a fixed number of independent trials, each with the same probability of success."
   ]
  },
  {
   "cell_type": "markdown",
   "id": "48bdf4ad-5e20-4ca2-85dc-3270168131f4",
   "metadata": {},
   "source": [
    "# Quetion : 6"
   ]
  },
  {
   "cell_type": "markdown",
   "id": "f0a685b1-77f3-4b68-ae89-d29b72b88921",
   "metadata": {},
   "source": [
    "We can calculate the probability that a randomly selected observation will be greater than 60, assuming that the dataset is normally distributed with a mean of 50 and a standard deviation of 10, using the z-score formula"
   ]
  },
  {
   "cell_type": "markdown",
   "id": "b47982ca-9e9a-45a0-a789-3b028199cbcc",
   "metadata": {},
   "source": [
    "# Quetion : 7"
   ]
  },
  {
   "cell_type": "markdown",
   "id": "66f32bba-d33d-4b8b-9d0c-4d8965265e30",
   "metadata": {},
   "source": [
    " Uniform Distribution is a probability distribution where all possible outcomes are equally likely to occur. This means that each outcome has an equal chance of happening, and there is no bias towards any particular value. For example, rolling a fair die is an example of a uniform distribution. Each of the six sides has an equal probability of landing face-up, so the probability of rolling any particular number from 1 to 6 is 1/6."
   ]
  },
  {
   "cell_type": "markdown",
   "id": "d08d13f3-7344-4b9b-8895-7b1db9645acd",
   "metadata": {},
   "source": [
    "# Quetion : 8"
   ]
  },
  {
   "cell_type": "markdown",
   "id": "933a85b8-a199-42cb-96db-a967b931c5c4",
   "metadata": {},
   "source": [
    " The z score, also known as the standard score, is a measure of how many standard deviations a particular data point is away from the mean of a dataset. It is calculated by subtracting the mean from the data point and then dividing the result by the standard deviation. The z score is important because it allows us to compare data points from different datasets on a standardized scale. This makes it possible to make statistical inferences and draw conclusions about populations based on samples."
   ]
  },
  {
   "cell_type": "markdown",
   "id": "3cb6c7df-b9a8-4a26-b68f-5592fd9c5ef0",
   "metadata": {},
   "source": [
    "# Quetion : 9"
   ]
  },
  {
   "cell_type": "markdown",
   "id": "99341302-bd30-46ef-911e-6c75c24622e7",
   "metadata": {},
   "source": [
    "The Central Limit Theorem states that, under certain conditions, the sampling distribution of the mean of a random sample drawn from any population will be approximately normally distributed, regardless of the shape of the population distribution. This means that as the sample size increases, the distribution of sample means becomes more and more normal, with a mean equal to the population mean and a standard deviation equal to the population standard deviation divided by the square root of the sample size. The significance of the Central Limit Theorem is that it allows us to use the normal distribution to make inferences about population means, even if we don't know the shape of the population distribution."
   ]
  },
  {
   "cell_type": "markdown",
   "id": "b19111c4-fbe2-4621-83b9-ebed39c9ee83",
   "metadata": {},
   "source": [
    "# Quetion : 10"
   ]
  },
  {
   "cell_type": "markdown",
   "id": "86f0847b-eeee-4b47-86c6-5e922e1c03bc",
   "metadata": {},
   "source": [
    "The assumptions of the Central Limit Theorem are:\n",
    "\n",
    "The sample is random.\n",
    "The sample size is sufficiently large (typically n > 30).\n",
    "The observations in the sample are independent of each other.\n",
    "The population from which the sample is drawn has a finite variance."
   ]
  }
 ],
 "metadata": {
  "kernelspec": {
   "display_name": "Python 3 (ipykernel)",
   "language": "python",
   "name": "python3"
  },
  "language_info": {
   "codemirror_mode": {
    "name": "ipython",
    "version": 3
   },
   "file_extension": ".py",
   "mimetype": "text/x-python",
   "name": "python",
   "nbconvert_exporter": "python",
   "pygments_lexer": "ipython3",
   "version": "3.10.8"
  }
 },
 "nbformat": 4,
 "nbformat_minor": 5
}
